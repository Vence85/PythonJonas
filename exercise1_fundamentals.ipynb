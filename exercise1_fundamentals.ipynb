{
 "cells": [
  {
   "cell_type": "markdown",
   "metadata": {},
   "source": [
    "## Exercise 1 - Python fundamental"
   ]
  },
  {
   "cell_type": "markdown",
   "metadata": {},
   "source": [
    "#### 1. Cleaning string data"
   ]
  },
  {
   "cell_type": "code",
   "execution_count": null,
   "metadata": {},
   "outputs": [],
   "source": [
    "rawIntro = [\"   i \", \"AM \", \"    CURRENTLY \", \"TEACHING\", \"ai.   \", \"mY\", \"   CLASS\", \"IS\", \"CALLED\", \"opa21.\"]"
   ]
  },
  {
   "cell_type": "code",
   "execution_count": 18,
   "metadata": {},
   "outputs": [
    {
     "name": "stdout",
     "output_type": "stream",
     "text": [
      "['I', 'am', 'currently', 'teaching', 'AI.', 'My', 'class', 'is', 'called', 'OPA24.']\n"
     ]
    }
   ],
   "source": [
    "cleanIntro = [word.strip().swapcase() for word in rawIntro]\n",
    "print (cleanIntro)"
   ]
  },
  {
   "cell_type": "code",
   "execution_count": 11,
   "metadata": {},
   "outputs": [
    {
     "name": "stdout",
     "output_type": "stream",
     "text": [
      "I am currently teaching AI. My class is called OPA24.\n"
     ]
    }
   ],
   "source": [
    "finishedIntro = \" \".join(cleanIntro)\n",
    "print (finishedIntro)"
   ]
  },
  {
   "cell_type": "code",
   "execution_count": 16,
   "metadata": {},
   "outputs": [
    {
     "name": "stdout",
     "output_type": "stream",
     "text": [
      "I am currently studying AI. My class is called OPA24.\n"
     ]
    }
   ],
   "source": [
    "completeIntro = finishedIntro.replace(\"teaching\", \"studying\").replace(\"opa21\", \"opa24\")\n",
    "print (completeIntro)"
   ]
  },
  {
   "cell_type": "code",
   "execution_count": 17,
   "metadata": {},
   "outputs": [
    {
     "name": "stdout",
     "output_type": "stream",
     "text": [
      "-----------------My introduction------------------\n",
      "I am currently studying AI. My class is called OPA24.\n"
     ]
    }
   ],
   "source": [
    "title = \"My introduction\".center(50, \"-\")\n",
    "print (title)\n",
    "print (completeIntro)"
   ]
  },
  {
   "cell_type": "markdown",
   "metadata": {},
   "source": [
    "# Exercise 2 - Hire It employee data"
   ]
  },
  {
   "cell_type": "markdown",
   "metadata": {},
   "source": [
    "a"
   ]
  },
  {
   "cell_type": "code",
   "execution_count": 32,
   "metadata": {},
   "outputs": [],
   "source": [
    "employees = [\n",
    "    {\"employeeId\": 0, \"name\": \"alice\", \"department\": \"HR\", \"Salary\": 31000},\n",
    "    {\"employeeId\": 1, \"name\": \"Bob\", \"department\": \"IT\", \"Salary\": 41000},\n",
    "    {\"employeeId\": 2, \"name\": \"Charlie\", \"department\": \"HR\", \"Salary\": 28000}\n",
    "]"
   ]
  },
  {
   "cell_type": "code",
   "execution_count": 21,
   "metadata": {},
   "outputs": [
    {
     "name": "stdout",
     "output_type": "stream",
     "text": [
      "{'employeeId': 1, 'name': 'Bob', 'department': 'IT', 'Salary': 41000}\n"
     ]
    }
   ],
   "source": [
    "secondRow = employees[1]\n",
    "print (secondRow)"
   ]
  },
  {
   "cell_type": "code",
   "execution_count": 26,
   "metadata": {},
   "outputs": [
    {
     "name": "stdout",
     "output_type": "stream",
     "text": [
      "Alice works in department HR and earns 31000.\n",
      "Bob works in department IT and earns 41000.\n",
      "Charlie works in department HR and earns 28000.\n"
     ]
    }
   ],
   "source": [
    "\n",
    "\n",
    "# Loop through each employee and print in the desired format\n",
    "for emp in employees:\n",
    "    print(f\"{emp['name']} works in department {emp['department']} and earns {emp['salary']}.\")\n"
   ]
  },
  {
   "cell_type": "code",
   "execution_count": 36,
   "metadata": {},
   "outputs": [
    {
     "name": "stdout",
     "output_type": "stream",
     "text": [
      "33333.333333333336\n"
     ]
    }
   ],
   "source": [
    "employees = [\n",
    "    {\"employeeId\": 0, \"name\": \"alice\", \"department\": \"HR\", \"salary\": 31000},\n",
    "    {\"employeeId\": 1, \"name\": \"Bob\", \"department\": \"IT\", \"salary\": 41000},\n",
    "    {\"employeeId\": 2, \"name\": \"Charlie\", \"department\": \"HR\", \"salary\": 28000}\n",
    "]\n",
    "\n",
    "totalSalary = sum(emp[\"salary\"] for emp in employees)\n",
    "numOfEmployyes = len(employees)\n",
    "avarageSalary = totalSalary / numOfEmployyes\n",
    "print (avarageSalary)"
   ]
  },
  {
   "cell_type": "code",
   "execution_count": 42,
   "metadata": {},
   "outputs": [
    {
     "name": "stdout",
     "output_type": "stream",
     "text": [
      "[{'employeeId': 0, 'name': 'alice', 'department': 'HR', 'salary': 31000}, {'employeeId': 2, 'name': 'Charlie', 'department': 'HR', 'salary': 28000}]\n"
     ]
    }
   ],
   "source": [
    "hrEmployees = [emp for emp in employees if emp[\"department\"] == \"HR\"]\n",
    "print (hrEmployees)"
   ]
  },
  {
   "cell_type": "code",
   "execution_count": 41,
   "metadata": {},
   "outputs": [
    {
     "name": "stdout",
     "output_type": "stream",
     "text": [
      "{'IT', 'HR'}\n"
     ]
    }
   ],
   "source": [
    "allDepartments = {emp[\"department\"] for emp in employees}\n",
    "print (allDepartments)"
   ]
  },
  {
   "cell_type": "markdown",
   "metadata": {},
   "source": [
    "# Exercise 3 - Gotta catch em all"
   ]
  },
  {
   "cell_type": "code",
   "execution_count": 17,
   "metadata": {},
   "outputs": [
    {
     "name": "stdout",
     "output_type": "stream",
     "text": [
      "Name: Jonas Type: Water - Level :5 HP: 100\n",
      "Name: Erika Type: Fire - Level :2 HP: 100\n",
      "Jonas attacks Erika and deals 10 damage\n",
      "Erika now has 90hp left\n",
      "Name: Erika Type: Fire - Level :2 HP: 90\n"
     ]
    }
   ],
   "source": [
    "class Pokemon:\n",
    "    def __init__(self, name, type, level):\n",
    "        self.name = name\n",
    "        self.type = type\n",
    "        self.level = level\n",
    "        self.hp = 100\n",
    "    \n",
    "    def __str__(self):\n",
    "        return f\"Name: {self.name} Type: {self.type} - Level :{self.level} HP: {self.hp}\"\n",
    "\n",
    "    def attack (self, other_pokemon):\n",
    "        damage = self.level * 2\n",
    "        other_pokemon.hp -= damage\n",
    "    \n",
    "        if other_pokemon.hp <= 0:\n",
    "            other_pokemon.hp = 0\n",
    "\n",
    "        print(f\"{self.name} attacks {other_pokemon.name} and deals {damage} damage\")\n",
    "        print(f\"{other_pokemon.name} now has {other_pokemon.hp}hp left\")\n",
    "\n",
    "\n",
    "jonas = Pokemon(\"Jonas\", \"Water\", 5)\n",
    "erika = Pokemon(\"Erika\", \"Fire\", 2)\n",
    "print(jonas)\n",
    "print(erika)\n",
    "\n",
    "jonas.attack(erika)\n",
    "\n",
    "print(erika)\n",
    "\n"
   ]
  }
 ],
 "metadata": {
  "kernelspec": {
   "display_name": ".venv",
   "language": "python",
   "name": "python3"
  },
  "language_info": {
   "codemirror_mode": {
    "name": "ipython",
    "version": 3
   },
   "file_extension": ".py",
   "mimetype": "text/x-python",
   "name": "python",
   "nbconvert_exporter": "python",
   "pygments_lexer": "ipython3",
   "version": "3.12.0"
  }
 },
 "nbformat": 4,
 "nbformat_minor": 2
}
